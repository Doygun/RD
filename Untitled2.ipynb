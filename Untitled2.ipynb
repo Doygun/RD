{
  "nbformat": 4,
  "nbformat_minor": 0,
  "metadata": {
    "colab": {
      "name": "Untitled2.ipynb",
      "version": "0.3.2",
      "provenance": [],
      "toc_visible": true,
      "include_colab_link": true
    },
    "kernelspec": {
      "name": "python3",
      "display_name": "Python 3"
    }
  },
  "cells": [
    {
      "cell_type": "markdown",
      "metadata": {
        "id": "view-in-github",
        "colab_type": "text"
      },
      "source": [
        "<a href=\"https://colab.research.google.com/github/Doygun/RD/blob/master/Untitled2.ipynb\" target=\"_parent\"><img src=\"https://colab.research.google.com/assets/colab-badge.svg\" alt=\"Open In Colab\"/></a>"
      ]
    },
    {
      "metadata": {
        "id": "COosy3xwxndK",
        "colab_type": "text"
      },
      "cell_type": "markdown",
      "source": [
        "# New Sectionlklkmlkmll\n",
        "şilöşl"
      ]
    },
    {
      "metadata": {
        "id": "BVueb1BFxqmi",
        "colab_type": "code",
        "colab": {}
      },
      "cell_type": "code",
      "source": [
        "import pandas as pd"
      ],
      "execution_count": 0,
      "outputs": []
    },
    {
      "metadata": {
        "id": "UQcWIYMcxuEa",
        "colab_type": "text"
      },
      "cell_type": "markdown",
      "source": [
        "resul das"
      ]
    },
    {
      "metadata": {
        "id": "sWQrovQnxv7S",
        "colab_type": "code",
        "outputId": "6170f662-bc2a-4991-b74b-333465815dc5",
        "colab": {
          "base_uri": "https://localhost:8080/",
          "height": 34
        }
      },
      "cell_type": "code",
      "source": [
        "x=input(\"deneme \")"
      ],
      "execution_count": 0,
      "outputs": [
        {
          "output_type": "stream",
          "text": [
            "deneme Dndjdjdj\n"
          ],
          "name": "stdout"
        }
      ]
    }
  ]
}